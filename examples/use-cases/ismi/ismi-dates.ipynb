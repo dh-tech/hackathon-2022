{
 "cells": [
  {
   "cell_type": "markdown",
   "id": "0fa36628-ccf2-4977-8c4c-e0a85e2b37b6",
   "metadata": {},
   "source": [
    "# Working with ISMI project dates"
   ]
  },
  {
   "cell_type": "markdown",
   "id": "ffd4b544-8957-494e-9e09-b703d68bb7df",
   "metadata": {},
   "source": [
    "## Load date samples from RDF"
   ]
  },
  {
   "cell_type": "code",
   "execution_count": 1,
   "id": "a8a36e7f-6057-44d1-8466-6709910d4249",
   "metadata": {},
   "outputs": [
    {
     "data": {
      "text/plain": [
       "78"
      ]
     },
     "execution_count": 1,
     "metadata": {},
     "output_type": "execute_result"
    }
   ],
   "source": [
    "from rdflib import Graph, RDF, URIRef\n",
    "from rdflib.namespace import Namespace, RDFS\n",
    "from undate.undate import Undate\n",
    "\n",
    "# additional RDF namespaces\n",
    "crmNs = Namespace('http://www.cidoc-crm.org/cidoc-crm/')\n",
    "\n",
    "g = Graph()\n",
    "g.bind('crm', crmNs)\n",
    "# load ISMI RDF sample data\n",
    "g.parse('data/ismi-crm-date-samples.ttl')\n",
    "# check: number of triples\n",
    "len(g)"
   ]
  },
  {
   "cell_type": "code",
   "execution_count": 2,
   "id": "c940ca2b-b369-4511-8dc9-420bdaeb3e65",
   "metadata": {},
   "outputs": [
    {
     "name": "stdout",
     "output_type": "stream",
     "text": [
      "uri=http://content.mpiwg-berlin.mpg.de/ns/ismi/date1 label=901 Rabīʿ I 14 (islamic) note=day-precision date in islamic calendar\n",
      "uri=http://content.mpiwg-berlin.mpg.de/ns/ismi/date2 label=884 (islamic) note=year-precision date in islamic calendar\n",
      "uri=http://content.mpiwg-berlin.mpg.de/ns/ismi/date3 label=900 Muḥarram 1 - 999 Ḏu al-Ḥijjaẗ 29 (islamic) note=range-type (century in islamic calendar) date in islamic calendar\n",
      "uri=http://content.mpiwg-berlin.mpg.de/ns/ismi/date4 label=1830 February 8 (gregorian) note=day-precision date in gregorian calendar\n",
      "uri=http://content.mpiwg-berlin.mpg.de/ns/ismi/date5 label=1796 (gregorian) note=year-precision date in gregorian calendar\n",
      "uri=http://content.mpiwg-berlin.mpg.de/ns/ismi/date6 label=1600 January 1 - 1699 December 31 (gregorian) note=range-type (century in gregorian calendar) date in gregorian calendar\n",
      "uri=http://content.mpiwg-berlin.mpg.de/ns/ismi/date7 label=1035 May 29 (julian) note=day-precision date in julian calendar\n",
      "uri=http://content.mpiwg-berlin.mpg.de/ns/ismi/date8 label=1013 (julian) note=year-precision date in julian calendar\n",
      "uri=http://content.mpiwg-berlin.mpg.de/ns/ismi/date9 label=1200 January 1 - 1299 December 31 (julian) note=range-type (century in julian calendar) date in julian calendar\n"
     ]
    }
   ],
   "source": [
    "date_uris = [u for u in g.subjects(RDF.type, crmNs['E52_Time-Span'])]\n",
    "\n",
    "for uri in date_uris:\n",
    "    q = '''SELECT ?uri ?label ?note \n",
    "           WHERE { \n",
    "             ?uri crm:P3_has_note ?note ;\n",
    "               crm:P1_is_identified_by / rdfs:label ?label .\n",
    "            } limit 10'''\n",
    "    res = g.query(q, initBindings={'uri': uri})\n",
    "    for r in res:\n",
    "        print(f\"uri={str(uri)} label={r.label} note={r.note}\")"
   ]
  },
  {
   "cell_type": "markdown",
   "id": "16361060-657f-431c-b70f-9101d550aa38",
   "metadata": {},
   "source": [
    "## Convert RDF dates to Undate manually"
   ]
  },
  {
   "cell_type": "code",
   "execution_count": 3,
   "id": "e443b974-930b-4a5d-8f21-641b4556b159",
   "metadata": {},
   "outputs": [
    {
     "name": "stdout",
     "output_type": "stream",
     "text": [
      "date_label='884 (islamic)' date_type='year' calendar_type='islamic' date=<Undate '884 (islamic)' (1479-04-03)>\n"
     ]
    }
   ],
   "source": [
    "from undate.date import DatePrecision, Date\n",
    "import datetime\n",
    "\n",
    "uri = date_uris[1]\n",
    "\n",
    "#\n",
    "# read date type\n",
    "#\n",
    "date_type = None\n",
    "for date_type_uri in g.objects(uri, crmNs.P2_has_type):\n",
    "    for dt in ['day', 'year', 'range']:\n",
    "        if str(date_type_uri) == 'http://content.mpiwg-berlin.mpg.de/ns/ismi/type/date/' + dt:\n",
    "            date_type = dt\n",
    "\n",
    "if not date_type:\n",
    "    raise RuntimeError(f\"Unknown datetype URI {date_type_uri}\")\n",
    "\n",
    "#\n",
    "# read label and calendar\n",
    "#\n",
    "date_label_uri = next(g.objects(uri, crmNs.P1_is_identified_by))\n",
    "date_label = str(next(g.objects(date_label_uri, RDFS.label)))\n",
    "for date_label_calendar_uri in g.objects(date_label_uri, crmNs.P2_has_type):\n",
    "    for ct in ['gregorian', 'julian', 'islamic']:\n",
    "        if str(date_label_calendar_uri) == 'http://content.mpiwg-berlin.mpg.de/ns/ismi/type/calendar/' + ct:\n",
    "            calendar_type = ct\n",
    "\n",
    "if not calendar_type:\n",
    "    raise RuntimeError(f\"Unknown calendar type URI {date_label_calendar_uri}\")\n",
    "\n",
    "#\n",
    "# create undate\n",
    "#\n",
    "if date_type == 'day':\n",
    "    xsd_date = next(g.objects(uri, crmNs.P82_at_some_time_within))\n",
    "    date = Undate.parse(str(xsd_date), 'ISO8601')\n",
    "    date.precision = DatePrecision.DAY\n",
    "    date.label = date_label\n",
    "\n",
    "if date_type == 'year':\n",
    "    xsd_date_from = next(g.objects(uri, crmNs.P82a_begin_of_the_begin))\n",
    "    xsd_date_until = next(g.objects(uri, crmNs.P82b_end_of_the_end))\n",
    "    date_from = datetime.date.fromisoformat(str(xsd_date_from))\n",
    "    if calendar_type == 'gregorian':\n",
    "        # this should be fine\n",
    "        date = Undate(year=date_from.year)\n",
    "\n",
    "    else:\n",
    "        # create day precision Undate from end date\n",
    "        date = Undate.parse(str(xsd_date_until), 'ISO8601')\n",
    "        # change earliest date\n",
    "        date.earliest = Date(year=date_from.year, month=date_from.month, day=date_from.day)\n",
    "\n",
    "    # change precision and label\n",
    "    date.precision = DatePrecision.DAY\n",
    "    date.label = date_label\n",
    "\n",
    "if date_type == 'range':\n",
    "    xsd_date_from = next(g.objects(uri, crmNs.P82a_begin_of_the_begin))\n",
    "    xsd_date_until = next(g.objects(uri, crmNs.P82b_end_of_the_end))\n",
    "    # create day precision Undate from start date\n",
    "    date = Undate.parse(str(xsd_date_from), 'ISO8601')\n",
    "    # change latest date\n",
    "    date_until = datetime.date.fromisoformat(str(xsd_date_until))\n",
    "    date.latest = Date(year=date_until.year, month=date_until.month, day=date_until.day)\n",
    "    # change precision and label\n",
    "    date.precision = DatePrecision.DAY\n",
    "    date.label = date_label\n",
    "\n",
    "\n",
    "print(f\"{date_label=} {date_type=} {calendar_type=} {date=}\")"
   ]
  },
  {
   "cell_type": "markdown",
   "id": "1dedfc1e-e33d-4b8b-8ef3-292fc06d984d",
   "metadata": {},
   "source": [
    "## Convert RDF dates to Undate using Hijri parser"
   ]
  },
  {
   "cell_type": "code",
   "execution_count": 18,
   "id": "d88a4798-712e-4c83-a34e-122e242aed23",
   "metadata": {},
   "outputs": [
    {
     "name": "stdout",
     "output_type": "stream",
     "text": [
      "'901 Rabīʿ I 14 (islamic) -> <Undate '901 Rabīʿ I 14  Hijrī' (1495-12-11)>\n",
      "'884 (islamic) -> <UndateInterval '884  Hijrī' (1479-04-03/1480-03-21)>\n",
      "Could not parse '900 Muḥarram 1 - 999 Ḏu al-Ḥijjaẗ 29 ' as a Hijri date\n",
      "invalid literal for int() with base 10: '1830 February 8 '\n",
      "<Undate 1796>\n",
      "invalid literal for int() with base 10: '1600 January 1 '\n",
      "unknown calendar type for date 1035 May 29 (julian)\n",
      "unknown calendar type for date 1013 (julian)\n",
      "unknown calendar type for date 1200 January 1 - 1299 December 31 (julian)\n"
     ]
    }
   ],
   "source": [
    "for uri in date_uris:\n",
    "    \n",
    "    # load ISMI date parts\n",
    "    date_label_uri = next(g.objects(uri, crmNs.P1_is_identified_by))\n",
    "    date_label = str(next(g.objects(date_label_uri, RDFS.label)))\n",
    "    xsd_date = next(g.objects(uri, crmNs.P82_at_some_time_within), None)\n",
    "    if xsd_date:\n",
    "        ismi_from = Undate.parse(str(xsd_date), 'ISO8601')\n",
    "        ismi_until = ismi_from\n",
    "    else:\n",
    "        xsd_date_from = next(g.objects(uri, crmNs.P82a_begin_of_the_begin))\n",
    "        xsd_date_until = next(g.objects(uri, crmNs.P82b_end_of_the_end))\n",
    "        ismi_from = Undate.parse(str(xsd_date_from), 'ISO8601')\n",
    "        ismi_until = Undate.parse(str(xsd_date_until), 'ISO8601')\n",
    "\n",
    "    # use Hirji parser and compare results\n",
    "    try:\n",
    "        if date_label.endswith('(islamic)'):\n",
    "            label = date_label.replace('(islamic)', '')\n",
    "            date = Undate.parse(label, 'Hijri')\n",
    "            print(f\"'{date_label} -> {repr(date)}\")\n",
    "            if ismi_from.earliest != date.earliest:\n",
    "                print(f\"  different earliest dates: ismi={ismi_from.earliest} parser={date.earliest}\")\n",
    "            if ismi_until.latest != date.latest:\n",
    "                print(f\"  different latest dates: ismi={ismi_until.latest} parser={date.latest}\")\n",
    "            \n",
    "        elif date_label.endswith('(gregorian)'):\n",
    "            label = date_label.replace('(gregorian)', '')\n",
    "            date = Undate.parse(label, 'ISO8601')\n",
    "            print(repr(date))\n",
    "        \n",
    "        else:\n",
    "            print(f\"unknown calendar type for date {date_label}\")\n",
    "            date = None\n",
    "        \n",
    "    except Exception as e:\n",
    "        print(e)\n",
    "        "
   ]
  },
  {
   "cell_type": "code",
   "execution_count": null,
   "id": "cbe4f7ae-7b51-41e1-9cfe-6a0651419cd1",
   "metadata": {},
   "outputs": [],
   "source": []
  }
 ],
 "metadata": {
  "kernelspec": {
   "display_name": "Python 3 (ipykernel)",
   "language": "python",
   "name": "python3"
  },
  "language_info": {
   "codemirror_mode": {
    "name": "ipython",
    "version": 3
   },
   "file_extension": ".py",
   "mimetype": "text/x-python",
   "name": "python",
   "nbconvert_exporter": "python",
   "pygments_lexer": "ipython3",
   "version": "3.12.5"
  }
 },
 "nbformat": 4,
 "nbformat_minor": 5
}
