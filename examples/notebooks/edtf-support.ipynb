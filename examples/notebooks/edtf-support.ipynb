{
 "cells": [
  {
   "cell_type": "markdown",
   "id": "e517e953-8229-4f72-9376-fe822c4fae56",
   "metadata": {},
   "source": [
    "# EDTF support - demonstration and validation\n",
    "\n",
    "This notebook demonstrates and validates `undate` support for specific parts of the [Extended Date/Time Format (EDTF)](https://www.loc.gov/standards/datetime/) specification.\n",
    "\n",
    "This notebook follows the same structure and uses the example from the Library of Congress specification, demonstrating parsing EDTF dates and formating dates in EDTF syntax, for the parts of the specification undate implements.\n",
    "\n",
    "Undate only handles dates and date intervals; time is not supported.\n",
    "\n",
    "*Notebook authored by Rebecca Sutton Koeser, October 2024.*"
   ]
  },
  {
   "cell_type": "markdown",
   "id": "b01e0622-b07a-41b9-8f69-758f70abb6c9",
   "metadata": {},
   "source": [
    "## Level 0\n",
    "\n",
    "Full support for **Date** and **Time Interval**; **Date and Time** is not supported."
   ]
  },
  {
   "cell_type": "markdown",
   "id": "9ea09abd-62df-419c-b803-c870a2e0a8f0",
   "metadata": {},
   "source": [
    "### Date\n",
    "\n",
    "```\n",
    "complete representation:            [year][“-”][month][“-”][day]\n",
    "Example 1          ‘1985-04-12’ refers to the calendar date 1985 April 12th with day precision.\n",
    "reduced precision for year and month:   [year][“-”][month]\n",
    "Example 2          ‘1985-04’ refers to the calendar month 1985 April with month precision.\n",
    "reduced precision for year:  [year]\n",
    "Example 3          ‘1985’ refers to the calendar year 1985 with year precision.\n",
    "```"
   ]
  },
  {
   "cell_type": "markdown",
   "id": "2922207c-fc2d-4dac-a038-bf368c6af1f4",
   "metadata": {},
   "source": [
    "#### Parse EDTF format\n",
    "\n",
    "Demonstrate that these EDTF strings can be parsed into `Undate` objects."
   ]
  },
  {
   "cell_type": "code",
   "execution_count": 44,
   "id": "9c6b7379-b2a7-4ec1-afa5-2cd9832c8a5d",
   "metadata": {},
   "outputs": [],
   "source": [
    "from datetime import date\n",
    "\n",
    "# Example 1: day\n",
    "day = Undate.parse(\"1985-04-12\", \"EDTF\")\n",
    "assert day.precision == DatePrecision.DAY\n",
    "assert day == date(1985, 4, 12)\n",
    "\n",
    "# Example 2 : month\n",
    "month = Undate.parse(\"1985-04\", \"EDTF\")\n",
    "assert month.year == \"1985\" and month.month == \"04\"\n",
    "assert month.precision == DatePrecision.MONTH\n",
    "\n",
    "# Example 3  : year\n",
    "year = Undate.parse(\"1985\", \"EDTF\")\n",
    "assert year.year == \"1985\"\n",
    "assert year.precision == DatePrecision.YEAR"
   ]
  },
  {
   "cell_type": "markdown",
   "id": "6666c12d-7fda-419a-bbd9-af68ed4bbff0",
   "metadata": {},
   "source": [
    "#### Output in EDTF format\n",
    "\n",
    "Demonstrate that initalizing `Undate` objects and serializing with EDTF formatter returns the expected value."
   ]
  },
  {
   "cell_type": "code",
   "execution_count": 29,
   "id": "923476ff-344a-4018-a02e-6e5f80ea76a8",
   "metadata": {},
   "outputs": [],
   "source": [
    "from undate.undate import Undate, DatePrecision\n",
    "from undate.dateformat.edtf import EDTFDateFormat\n",
    "\n",
    "# set default format to EDTF\n",
    "Undate.DEFAULT_FORMAT = \"EDTF\"\n",
    "\n",
    "# Example 1: day\n",
    "day = Undate(1985, 4, 12)\n",
    "# confirm EDTF formatter is being used\n",
    "assert isinstance(day.formatter, EDTFDateFormat)\n",
    "# casting to str is now equivalent to day.format(\"EDTF\")\n",
    "assert str(day) == \"1985-04-12\"\n",
    "assert day.precision == DatePrecision.DAY\n",
    "\n",
    "# Example 2 : month\n",
    "month = Undate(1985, 4)\n",
    "assert str(month) == \"1985-04\"\n",
    "assert month.precision == DatePrecision.MONTH\n",
    "\n",
    "# Example 3  : year\n",
    "year = Undate(1985)\n",
    "assert str(year) == \"1985\"\n",
    "assert year.precision == DatePrecision.YEAR"
   ]
  },
  {
   "cell_type": "markdown",
   "id": "6f2fa2c1-9022-4afd-9404-d79816a211a5",
   "metadata": {},
   "source": [
    "### Date and Time - unsupported\n",
    "\n",
    "`undate` does not includes support for time, onnly dates and date intervals."
   ]
  },
  {
   "cell_type": "markdown",
   "id": "22b71a54-484e-49f2-975c-3da21c519095",
   "metadata": {},
   "source": [
    "### Time Interval\n",
    "\n",
    "EDTF Level 0 adopts representations of a time interval where both the start and end are dates: start and end date only; that is, both start and duration, and duration and end, are excluded. Time of day is excluded.\n",
    "\n",
    "```\n",
    "    Example 1          ‘1964/2008’ is a time interval with calendar year precision, beginning sometime in 1964 and ending sometime in 2008.\n",
    "    Example 2          ‘2004-06/2006-08’ is a time interval with calendar month precision, beginning sometime in June 2004 and ending sometime in August of 2006.\n",
    "    Example 3          ‘2004-02-01/2005-02-08’ is a time interval with calendar day precision, beginning sometime on February 1, 2004 and ending sometime on February 8, 2005.\n",
    "    Example 4          ‘2004-02-01/2005-02’ is a time interval beginning sometime on February 1, 2004 and ending sometime in February 2005. Since the start endpoint precision (day) is different than that of the end endpoint (month) the precision of the time interval at large is undefined.\n",
    "    Example 5          ‘2004-02-01/2005’ is a time interval beginning sometime on February 1, 2004 and ending sometime in 2005. The start endpoint has calendar day precision and the end endpoint has calendar year precision. Similar to the previous example, the precision of the time interval at large is undefined.\n",
    "    Example 6          ‘2005/2006-02’ is a time interval beginning sometime in 2005 and ending sometime in February 2006.\n",
    "```"
   ]
  },
  {
   "cell_type": "markdown",
   "id": "b843650f-5da2-4a6a-bcb2-2190fb2d0fcf",
   "metadata": {},
   "source": [
    "#### Parse EDTF format"
   ]
  },
  {
   "cell_type": "code",
   "execution_count": 57,
   "id": "6ed422de-34a2-4324-b254-f62db00563f7",
   "metadata": {},
   "outputs": [],
   "source": [
    "from undate.undate import UndateInterval\n",
    "\n",
    "# Example 1\n",
    "year_range = Undate.parse(\"1964/2008\", \"EDTF\")\n",
    "assert isinstance(year_range, UndateInterval)\n",
    "assert year_range.earliest == Undate(1964)\n",
    "assert year_range.latest == Undate(2008)\n",
    "# Example 2\n",
    "month_range = Undate.parse(\"2004-06/2006-08\", \"EDTF\")\n",
    "assert isinstance(month_range, UndateInterval)\n",
    "assert month_range.earliest == Undate(2004, 6)\n",
    "assert month_range.latest == Undate(2006, 8)\n",
    "# Example 3\n",
    "day_range = Undate.parse(\"2004-02-01/2005-02-08\", \"EDTF\")\n",
    "assert isinstance(day_range, UndateInterval)\n",
    "assert day_range.earliest == Undate(2004, 2, 1)\n",
    "assert day_range.latest == Undate(2005, 2, 8)\n",
    "# Example 4 \n",
    "day_month_range = Undate.parse(\"2004-02-01/2005-02\", \"EDTF\")\n",
    "assert isinstance(day_range, UndateInterval)\n",
    "assert day_month_range.earliest == Undate(2004, 2, 1)\n",
    "assert day_month_range.latest == Undate(2005, 2)\n",
    "assert day_month_range.earliest.precision == DatePrecision.DAY\n",
    "assert day_month_range.latest.precision == DatePrecision.MONTH\n",
    "# Example 5\n",
    "day_year_range = Undate.parse(\"2004-02-01/2005\", \"EDTF\")\n",
    "assert isinstance(day_range, UndateInterval)\n",
    "assert day_year_range.earliest == Undate(2004, 2, 1)\n",
    "assert day_year_range.latest == Undate(2005)\n",
    "assert day_year_range.earliest.precision == DatePrecision.DAY\n",
    "assert day_year_range.latest.precision == DatePrecision.YEAR\n",
    "# Example 6 \n",
    "year_month_range = Undate.parse(\"2005/2006-02\", \"EDTF\")\n",
    "assert isinstance(year_month_range, UndateInterval)\n",
    "assert year_month_range.earliest == Undate(2005)\n",
    "assert year_month_range.latest == Undate(2006, 2)\n",
    "assert year_month_range.earliest.precision == DatePrecision.YEAR\n",
    "assert year_month_range.latest.precision == DatePrecision.MONTH\n"
   ]
  },
  {
   "cell_type": "markdown",
   "id": "8f4dc069-2d8a-4707-84af-ad9da5334ab9",
   "metadata": {},
   "source": [
    "#### Output in EDTF format"
   ]
  },
  {
   "cell_type": "code",
   "execution_count": 58,
   "id": "8d98a139-627b-40bd-b1c5-d0028e538a53",
   "metadata": {},
   "outputs": [],
   "source": [
    "from undate.undate import UndateInterval\n",
    "\n",
    "# Example 1\n",
    "assert UndateInterval(Undate(1964), Undate(2008)).format(\"EDTF\") == \"1964/2008\"\n",
    "# Example 2\n",
    "assert UndateInterval(Undate(2004, 6), Undate(2006, 8)).format(\"EDTF\") == \"2004-06/2006-08\"\n",
    "# Example 3\n",
    "assert UndateInterval(Undate(2004, 2, 1), Undate(2005, 2, 8)).format(\"EDTF\") == \"2004-02-01/2005-02-08\"\n",
    "# Example 4 \n",
    "assert UndateInterval(Undate(2004, 2, 1), Undate(2005, 2)).format(\"EDTF\") == \"2004-02-01/2005-02\"\n",
    "# Example 5\n",
    "assert UndateInterval(Undate(2004, 2, 1), Undate(2005)).format(\"EDTF\") == \"2004-02-01/2005\"\n",
    "# Example 6 \n",
    "assert UndateInterval(Undate(2005), Undate(2006, 2)).format(\"EDTF\") == \"2005/2006-02\""
   ]
  }
 ],
 "metadata": {
  "kernelspec": {
   "display_name": "Python 3 (ipykernel)",
   "language": "python",
   "name": "python3"
  },
  "language_info": {
   "codemirror_mode": {
    "name": "ipython",
    "version": 3
   },
   "file_extension": ".py",
   "mimetype": "text/x-python",
   "name": "python",
   "nbconvert_exporter": "python",
   "pygments_lexer": "ipython3",
   "version": "3.13.0"
  }
 },
 "nbformat": 4,
 "nbformat_minor": 5
}
